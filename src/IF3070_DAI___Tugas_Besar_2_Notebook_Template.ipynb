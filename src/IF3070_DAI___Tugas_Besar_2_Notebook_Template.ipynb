{
 "cells": [
  {
   "cell_type": "markdown",
   "metadata": {
    "id": "GwzsfETHLfHA"
   },
   "source": [
    "## Import Libraries"
   ]
  },
  {
   "cell_type": "code",
   "execution_count": 35,
   "metadata": {
    "id": "jZJU5W_4LfHB"
   },
   "outputs": [],
   "source": [
    "import pandas as pd\n",
    "import numpy as np\n",
    "from sklearn.model_selection import train_test_split\n",
    "from sklearn.impute import SimpleImputer\n",
    "from sklearn.base import BaseEstimator, TransformerMixin\n",
    "from sklearn.preprocessing import MinMaxScaler, OneHotEncoder\n",
    "import matplotlib.pyplot as plt\n",
    "import seaborn as sns\n",
    "from collections import Counter\n",
    "from sklearn.pipeline import Pipeline\n",
    "from sklearn.compose import ColumnTransformer\n",
    "from imblearn.over_sampling import SMOTE\n",
    "from imblearn.under_sampling import RandomUnderSampler\n",
    "from imblearn.pipeline import Pipeline as ImbPipeline\n",
    "from imblearn.under_sampling import NearMiss\n",
    "from imblearn.over_sampling import RandomOverSampler\n",
    "\n",
    "\n",
    "# Import other libraries if needed"
   ]
  },
  {
   "cell_type": "markdown",
   "metadata": {
    "id": "OKbjLIdYLfHC"
   },
   "source": [
    "## Import Dataset"
   ]
  },
  {
   "cell_type": "code",
   "execution_count": null,
   "metadata": {
    "colab": {
     "base_uri": "https://localhost:8080/",
     "height": 255
    },
    "id": "-IWFJ-gdLfHD",
    "outputId": "d680a6b2-9012-4b44-c006-acb35977d75f"
   },
   "outputs": [],
   "source": [
    "df_train = pd.read_csv('https://drive.google.com/uc?id=1RqoINbiatAf5ssVrqESn2F3vGCe_XY17')\n",
    "df_train.head()"
   ]
  },
  {
   "cell_type": "code",
   "execution_count": 37,
   "metadata": {
    "colab": {
     "base_uri": "https://localhost:8080/",
     "height": 330
    },
    "id": "pF4PgJusSCR5",
    "outputId": "6a7486fd-1641-43be-9479-71cb7bb6fdeb"
   },
   "outputs": [],
   "source": [
    "df_test = pd.read_csv('https://drive.google.com/uc?id=1O9Fd-FRnJmQwGsqnUVQmAj8vYJM0NWH_')"
   ]
  },
  {
   "cell_type": "code",
   "execution_count": null,
   "metadata": {},
   "outputs": [],
   "source": [
    "#ubah datatype\n",
    "\n",
    "\n",
    "# Convert boolean-like columns (0.0 and 1.0) to 'boolean' type (nullable boolean)\n",
    "for col in df_train.select_dtypes(include=['float64']).columns:\n",
    "    # Drop NaN values to check if the rest are either 0.0 or 1.0\n",
    "    if df_train[col].dropna().isin([0.0, 1.0]).all():\n",
    "        # If column only contains 0.0 and 1.0, convert it to 'boolean' (nullable boolean)\n",
    "        df_train[col] = df_train[col].astype('boolean')\n",
    "\n",
    "# Convert boolean-like columns (0.0 and 1.0) to 'boolean' type (nullable boolean)\n",
    "for col in df_train.select_dtypes(include=['int64']).columns:\n",
    "    # Drop NaN values to check if the rest are either 0.0 or 1.0\n",
    "    if df_train[col].dropna().isin([0, 1]).all():\n",
    "        # If column only contains 0.0 and 1.0, convert it to 'boolean' (nullable boolean)\n",
    "        df_train[col] = df_train[col].astype('boolean')\n",
    "\n",
    "# Iterate over columns and check if the float columns can be converted to int\n",
    "for col in df_train.select_dtypes(include=['float64']).columns:\n",
    "    # Check if the non-NaN values in the column are whole numbers (i.e., no decimal part)\n",
    "    if (df_train[col].dropna() == df_train[col].dropna().astype('int64')).all():\n",
    "        # Convert to int type only the non-NaN values if condition is met\n",
    "        df_train[col] = df_train[col].astype('Int64')  # Use 'Int64' to support NaN as well\n",
    "\n",
    "\n",
    "#print the data types of the columns\n",
    "df_train.dtypes"
   ]
  },
  {
   "cell_type": "markdown",
   "metadata": {
    "id": "gvx-gT3bLfHM"
   },
   "source": [
    "# 1. Split Training Set and Validation Set\n",
    "\n",
    "Splitting the training and validation set works as an early diagnostic towards the performance of the model we train. This is done before the preprocessing steps to **avoid data leakage inbetween the sets**. If you want to use k-fold cross-validation, split the data later and do the cleaning and preprocessing separately for each split.\n",
    "\n",
    "Note: For training, you should use the data contained in the `train` folder given by the TA. The `test` data is only used for kaggle submission."
   ]
  },
  {
   "cell_type": "code",
   "execution_count": null,
   "metadata": {
    "colab": {
     "base_uri": "https://localhost:8080/",
     "height": 255
    },
    "id": "4yWCUFFBLfHM",
    "outputId": "656f403a-209c-4f00-c02c-a7019bad5d6a"
   },
   "outputs": [],
   "source": [
    "# Split training set and validation set here, store into variables train_set and val_set.\n",
    "# Remember to also keep the original training set before splitting. This will come important later.\n",
    "train_set, val_set = train_test_split(df_train,test_size=0.25, random_state=42)\n",
    "\n",
    "# check\n",
    "print(train_set.shape)\n",
    "print(val_set.shape)"
   ]
  },
  {
   "cell_type": "code",
   "execution_count": null,
   "metadata": {},
   "outputs": [],
   "source": [
    "train_set.nunique()"
   ]
  },
  {
   "cell_type": "markdown",
   "metadata": {
    "id": "IC14lmo_LfHN"
   },
   "source": [
    "# 2. Data Cleaning and Preprocessing\n",
    "\n",
    "This step is the first thing to be done once a Data Scientist have grasped a general knowledge of the data. Raw data is **seldom ready for training**, therefore steps need to be taken to clean and format the data for the Machine Learning model to interpret.\n",
    "\n",
    "By performing data cleaning and preprocessing, you ensure that your dataset is ready for model training, leading to more accurate and reliable machine learning results. These steps are essential for transforming raw data into a format that machine learning algorithms can effectively learn from and make predictions.\n",
    "\n",
    "We will give some common methods for you to try, but you only have to **at least implement one method for each process**. For each step that you will do, **please explain the reason why did you do that process. Write it in a markdown cell under the code cell you wrote.**"
   ]
  },
  {
   "cell_type": "markdown",
   "metadata": {
    "id": "p95_A8hSLfHY"
   },
   "source": [
    "## A. Data Cleaning\n",
    "\n",
    "**Data cleaning** is the crucial first step in preparing your dataset for machine learning. Raw data collected from various sources is often messy and may contain errors, missing values, and inconsistencies. Data cleaning involves the following steps:\n",
    "\n",
    "1. **Handling Missing Data:** Identify and address missing values in the dataset. This can include imputing missing values, removing rows or columns with excessive missing data, or using more advanced techniques like interpolation.\n",
    "\n",
    "2. **Dealing with Outliers:** Identify and handle outliers, which are data points significantly different from the rest of the dataset. Outliers can be removed or transformed to improve model performance.\n",
    "\n",
    "3. **Data Validation:** Check for data integrity and consistency. Ensure that data types are correct, categorical variables have consistent labels, and numerical values fall within expected ranges.\n",
    "\n",
    "4. **Removing Duplicates:** Identify and remove duplicate rows, as they can skew the model's training process and evaluation metrics.\n",
    "\n",
    "5. **Feature Engineering**: Create new features or modify existing ones to extract relevant information. This step can involve scaling, normalizing, or encoding features for better model interpretability."
   ]
  },
  {
   "cell_type": "markdown",
   "metadata": {
    "id": "_wruGao9LfHZ"
   },
   "source": [
    "### I. Handling Missing Data\n",
    "\n",
    "Missing data can adversely affect the performance and accuracy of machine learning models. There are several strategies to handle missing data in machine learning:\n",
    "\n",
    "1. **Data Imputation:**\n",
    "\n",
    "    a. **Mean, Median, or Mode Imputation:** For numerical features, you can replace missing values with the mean, median, or mode of the non-missing values in the same feature. This method is simple and often effective when data is missing at random.\n",
    "\n",
    "    b. **Constant Value Imputation:** You can replace missing values with a predefined constant value (e.g., 0) if it makes sense for your dataset and problem.\n",
    "\n",
    "    c. **Imputation Using Predictive Models:** More advanced techniques involve using predictive models to estimate missing values. For example, you can train a regression model to predict missing numerical values or a classification model to predict missing categorical values.\n",
    "\n",
    "2. **Deletion of Missing Data:**\n",
    "\n",
    "    a. **Listwise Deletion:** In cases where the amount of missing data is relatively small, you can simply remove rows with missing values from your dataset. However, this approach can lead to a loss of valuable information.\n",
    "\n",
    "    b. **Column (Feature) Deletion:** If a feature has a large number of missing values and is not critical for your analysis, you can consider removing that feature altogether.\n",
    "\n",
    "3. **Domain-Specific Strategies:**\n",
    "\n",
    "    a. **Domain Knowledge:** In some cases, domain knowledge can guide the imputation process. For example, if you know that missing values are related to a specific condition, you can impute them accordingly.\n",
    "\n",
    "4. **Imputation Libraries:**\n",
    "\n",
    "    a. **Scikit-Learn:** Scikit-Learn provides a `SimpleImputer` class that can handle basic imputation strategies like mean, median, and mode imputation.\n",
    "\n",
    "    b. **Fancyimpute:** Fancyimpute is a Python library that offers more advanced imputation techniques, including matrix factorization, k-nearest neighbors, and deep learning-based methods.\n",
    "\n",
    "The choice of imputation method should be guided by the nature of your data, the amount of missing data, the problem you are trying to solve, and the assumptions you are willing to make."
   ]
  },
  {
   "cell_type": "markdown",
   "metadata": {
    "id": "1OlIx4LWM42j"
   },
   "source": [
    "### Teknik Handling Missing data\n",
    "- Menggunakan dua metode imputasi, yaitu most_frequent dan mean, untuk menangani nilai yang hilang (missing values) pada dataset. Imputasi dengan strategi most_frequent digunakan untuk kolom bertipe object dan boolean, karena tipe data ini biasanya berisi nilai kategori atau True/False, sehingga pengisian dengan nilai yang paling sering muncul (modus) adalah pendekatan yang masuk akal. Sementara itu, strategi mean digunakan untuk kolom bertipe numerik, yaitu float64 dan Int64, karena pengisian nilai yang hilang dengan rata-rata dapat menjaga distribusi data numerik tetap konsisten."
   ]
  },
  {
   "cell_type": "code",
   "execution_count": null,
   "metadata": {},
   "outputs": [],
   "source": [
    "def missingDataHandler(dataset) :\n",
    "    imputer_modus = SimpleImputer(strategy='most_frequent')\n",
    "    imputer_mean  = SimpleImputer(strategy='mean')\n",
    "\n",
    "    dataset_object = dataset.select_dtypes(include='object').columns\n",
    "    boolean_dataset = dataset.select_dtypes(include='boolean').columns\n",
    "    float_dataset = dataset.select_dtypes(include='float64').columns\n",
    "    int_dataset = dataset.select_dtypes(include='Int64').columns\n",
    "\n",
    "    dataset[dataset_object]  = imputer_modus.fit_transform(dataset[dataset_object])\n",
    "    dataset[int_dataset]     = np.ceil(imputer_mean.fit_transform(dataset[int_dataset]))\n",
    "    dataset[float_dataset]   = imputer_mean.fit_transform(dataset[float_dataset])\n",
    "    dataset[boolean_dataset] = imputer_modus.fit_transform(dataset[boolean_dataset])\n",
    "\n",
    "    #mengubah kembali datatype menjadi semua (dari object)\n",
    "    for col in df_train.columns:\n",
    "        dataset[col] = dataset[col].astype(df_train[col].dtype)\n",
    "\n",
    "missingDataHandler(train_set)\n",
    "missingDataHandler(val_set)\n",
    "train_set"
   ]
  },
  {
   "cell_type": "code",
   "execution_count": null,
   "metadata": {},
   "outputs": [],
   "source": [
    "train_set.isna().sum()"
   ]
  },
  {
   "cell_type": "markdown",
   "metadata": {
    "id": "zgrSMcK75VY_"
   },
   "source": [
    "### II. Dealing with Outliers\n",
    "\n",
    "Outliers are data points that significantly differ from the majority of the data. They can be unusually high or low values that do not fit the pattern of the rest of the dataset. Outliers can significantly impact model performance, so it is important to handle them properly.\n",
    "\n",
    "Some methods to handle outliers:\n",
    "1. **Imputation**: Replace with mean, median, or a boundary value.\n",
    "2. **Clipping**: Cap values to upper and lower limits.\n",
    "3. **Transformation**: Use log, square root, or power transformations to reduce their influence.\n",
    "4. **Model-Based**: Use algorithms robust to outliers (e.g., tree-based models, Huber regression)."
   ]
  },
  {
   "cell_type": "code",
   "execution_count": null,
   "metadata": {},
   "outputs": [],
   "source": [
    "train_set.nunique()"
   ]
  },
  {
   "cell_type": "code",
   "execution_count": null,
   "metadata": {},
   "outputs": [],
   "source": [
    "numerical_train_set = train_set.select_dtypes(include='number').columns\n",
    "for col in numerical_train_set :\n",
    "    print(f'min {col} : {train_set[col].min()}')\n",
    "print('\\n')\n",
    "for col in numerical_train_set :\n",
    "    print(f'max {col} : {train_set[col].max()}')"
   ]
  },
  {
   "cell_type": "markdown",
   "metadata": {},
   "source": [
    "### Teknik Dealing with Outliers\n",
    "- Menggunakan metode clipping. Pada kode ini, kami menangani outlier pada data numerik di dataset menggunakan metode IQR (Interquartile Range). Pertama, kami menghitung kuartil pertama (Q1) dan kuartil ketiga (Q3) untuk setiap kolom numerik, lalu menghitung IQR sebagai selisih antara Q3 dan Q1. Kemudian, kami menentukan batas bawah (lowerBound) dan batas atas (upperBound). Selanjutnya, nilai-nilai yang berada di luar batas tersebut dianggap outlier dan di-clip agar berada dalam rentang batas bawah dan atas. Untuk tipe data Int64, batas bawah dan atas dibulatkan menggunakan np.floor dan np.ceil agar konsisten dengan tipe datanya, sementara untuk tipe numerik lainnya tidak dilakukan pembulatan. Langkah ini bertujuan untuk menangani outlier secara efektif tanpa menghilangkan data, sehingga distribusi data tetap wajar untuk analisis atau pemodelan."
   ]
  },
  {
   "cell_type": "code",
   "execution_count": 45,
   "metadata": {},
   "outputs": [],
   "source": [
    "def outlierHandler(dataset) :\n",
    "  numerical_dataset = dataset.select_dtypes(include='number').columns\n",
    "\n",
    "  for i in numerical_dataset:\n",
    "    Q1 = dataset[i].quantile(0.25)\n",
    "    Q3 = dataset[i].quantile(0.75)\n",
    "\n",
    "    IQR = Q3-Q1\n",
    "\n",
    "    threshold = 1.5\n",
    "\n",
    "    lowerBound = Q1 - (threshold*IQR)\n",
    "    upperBound = Q3 + (threshold*IQR)\n",
    "\n",
    "    # mean_value = train_set[i].mean()\n",
    "    # train_set[i] = train_set[i].apply(lambda x: mean_value if (x < lowerBound or x > upperBound) else x)\n",
    "    if (dataset[i].dtype == 'Int64') :\n",
    "      dataset[i] = dataset[i].clip(lower=np.floor(lowerBound), upper=np.ceil(upperBound))\n",
    "    else :\n",
    "      dataset[i] = dataset[i].clip(lower=lowerBound, upper=upperBound)\n",
    "\n",
    "outlierHandler(train_set)\n",
    "outlierHandler(val_set)"
   ]
  },
  {
   "cell_type": "code",
   "execution_count": null,
   "metadata": {},
   "outputs": [],
   "source": [
    "train_set.nunique()"
   ]
  },
  {
   "cell_type": "code",
   "execution_count": null,
   "metadata": {},
   "outputs": [],
   "source": [
    "numerical_train_set = train_set.select_dtypes(include='number').columns\n",
    "for col in numerical_train_set :\n",
    "    print(f'min {col} : {train_set[col].min()}')\n",
    "print('\\n')\n",
    "for col in numerical_train_set :\n",
    "    print(f'max {col} : {train_set[col].max()}')"
   ]
  },
  {
   "cell_type": "markdown",
   "metadata": {
    "id": "aO0ZEZ-s6Lu-"
   },
   "source": [
    "### III. Remove Duplicates\n",
    "Handling duplicate values is crucial because they can compromise data integrity, leading to inaccurate analysis and insights. Duplicate entries can bias machine learning models, causing overfitting and reducing their ability to generalize to new data. They also inflate the dataset size unnecessarily, increasing computational costs and processing times. Additionally, duplicates can distort statistical measures and lead to inconsistencies, ultimately affecting the reliability of data-driven decisions and reporting. Ensuring data quality by removing duplicates is essential for accurate, efficient, and consistent analysis."
   ]
  },
  {
   "cell_type": "markdown",
   "metadata": {},
   "source": [
    "### Teknik Remove Duplicates\n",
    "- Menghapus duplikasi data berdasarkan kolom URL menggunakan metode drop_duplicates. Hal ini dilakukan karena setiap URL dalam dataset seharusnya unik. Jika terdapat URL yang sama dengan label yang sama, data tersebut tidak menambah informasi baru dan hanya meningkatkan redundansi. Sebaliknya, jika URL yang sama memiliki label yang berbeda (contoh: phishing dan non-phishing), hal ini dapat menyebabkan inkonsistensi data."
   ]
  },
  {
   "cell_type": "code",
   "execution_count": null,
   "metadata": {
    "id": "BHCkkZ-v7iF8"
   },
   "outputs": [],
   "source": [
    "# Write your code here\n",
    "def duplicateHandler(dataset) :\n",
    "    print(dataset.shape)\n",
    "    datasett = dataset.drop_duplicates(subset=[\"URL\"])\n",
    "    print(dataset.shape)\n",
    "\n",
    "duplicateHandler(train_set)\n",
    "duplicateHandler(val_set)"
   ]
  },
  {
   "cell_type": "code",
   "execution_count": null,
   "metadata": {},
   "outputs": [],
   "source": [
    "(train_set['label'] == 1).sum()"
   ]
  },
  {
   "cell_type": "markdown",
   "metadata": {
    "id": "eycPASmMLfHa"
   },
   "source": [
    "### IV. Feature Engineering\n",
    "\n",
    "**Feature engineering** involves creating new features (input variables) or transforming existing ones to improve the performance of machine learning models. Feature engineering aims to enhance the model's ability to learn patterns and make accurate predictions from the data. It's often said that \"good features make good models.\"\n",
    "\n",
    "1. **Feature Selection:** Feature engineering can involve selecting the most relevant and informative features from the dataset. Removing irrelevant or redundant features not only simplifies the model but also reduces the risk of overfitting.\n",
    "\n",
    "2. **Creating New Features:** Sometimes, the existing features may not capture the underlying patterns effectively. In such cases, engineers create new features that provide additional information. For example:\n",
    "   \n",
    "   - **Polynomial Features:** Engineers may create new features by taking the square, cube, or other higher-order terms of existing numerical features. This can help capture nonlinear relationships.\n",
    "   \n",
    "   - **Interaction Features:** Interaction features are created by combining two or more existing features. For example, if you have features \"length\" and \"width,\" you can create an \"area\" feature by multiplying them.\n",
    "\n",
    "3. **Binning or Discretization:** Continuous numerical features can be divided into bins or categories. For instance, age values can be grouped into bins like \"child,\" \"adult,\" and \"senior.\"\n",
    "\n",
    "4. **Domain-Specific Feature Engineering:** Depending on the domain and problem, engineers may create domain-specific features. For example, in fraud detection, features related to transaction history and user behavior may be engineered to identify anomalies.\n",
    "\n",
    "Feature engineering is both a creative and iterative process. It requires a deep understanding of the data, domain knowledge, and experimentation to determine which features will enhance the model's predictive power."
   ]
  },
  {
   "cell_type": "code",
   "execution_count": null,
   "metadata": {},
   "outputs": [],
   "source": [
    "train_set.nunique()"
   ]
  },
  {
   "cell_type": "markdown",
   "metadata": {},
   "source": [
    "### Teknik Feature Engineering \n",
    "- Degan metode binning. Dilakukan proses feature engineering untuk kolom numerik yang memiliki jumlah nilai unik lebih dari 30 (disaring melalui nunique) dan bukan kolom id. Kolom tersebut dianggap memiliki rentang nilai yang besar (big range), sehingga dilakukan pembagian menjadi beberapa kategori untuk menyederhanakan representasi data. Setiap nilai pada kolom diubah menjadi tiga kategori: low, medium, dan high, berdasarkan nilai batas yang dihitung dari rentang minimum hingga maksimum menggunakan pendekatan persentil sederhana. Proses ini dilakukan dengan membuat kolom baru dengan prefix bin_ untuk setiap kolom asli. Hasilnya, kategori ini diubah menjadi tipe data category agar lebih efisien dalam penyimpanan dan pemrosesan."
   ]
  },
  {
   "cell_type": "code",
   "execution_count": 51,
   "metadata": {
    "id": "UoXEV6wkLfHa"
   },
   "outputs": [],
   "source": [
    "# Write your code here\n",
    "def featureBinning(dataset):\n",
    "    numerical_dataset = dataset[[col for col in dataset.select_dtypes(include='number').columns if col != 'id']].copy()\n",
    "    old_columns = numerical_dataset.columns\n",
    "\n",
    "    for col in numerical_dataset:\n",
    "        min_val = numerical_dataset[col].min()\n",
    "        max_val = numerical_dataset[col].max()\n",
    "        val1 = min_val + ((max_val - min_val) // 3)\n",
    "        val2 = min_val + ((max_val - min_val) * 2 // 3)\n",
    "\n",
    "        numerical_dataset.loc[numerical_dataset[col] <= val1, 'bin_' + col] = 'low'\n",
    "        numerical_dataset.loc[(numerical_dataset[col] > val1) & (numerical_dataset[col] <= val2), 'bin_' + col] = 'medium'\n",
    "        numerical_dataset.loc[numerical_dataset[col] > val2, 'bin_' + col] = 'high'\n",
    "\n",
    "    numerical_dataset = numerical_dataset.drop(columns=old_columns)\n",
    "    numerical_dataset = numerical_dataset.astype('category')\n",
    "    return numerical_dataset\n",
    "\n",
    "train_set = pd.concat([train_set, featureBinning(train_set)], axis=1)\n",
    "train_set\n",
    "val_set = pd.concat([val_set, featureBinning(val_set)], axis=1)\n",
    "\n",
    "#drop dtype object columns\n",
    "train_set = train_set.drop(columns=train_set.select_dtypes(include='object').columns)\n",
    "val_set = val_set.drop(columns=val_set.select_dtypes(include='object').columns)\n"
   ]
  },
  {
   "cell_type": "markdown",
   "metadata": {
    "id": "xw11_49xLfHb"
   },
   "source": [
    "## B. Data Preprocessing\n",
    "\n",
    "**Data preprocessing** is a broader step that encompasses both data cleaning and additional transformations to make the data suitable for machine learning algorithms. Its primary goals are:\n",
    "\n",
    "1. **Feature Scaling:** Ensure that numerical features have similar scales. Common techniques include Min-Max scaling (scaling to a specific range) or standardization (mean-centered, unit variance).\n",
    "\n",
    "2. **Encoding Categorical Variables:** Machine learning models typically work with numerical data, so categorical variables need to be encoded. This can be done using one-hot encoding, label encoding, or more advanced methods like target encoding.\n",
    "\n",
    "3. **Handling Imbalanced Classes:** If dealing with imbalanced classes in a binary classification task, apply techniques such as oversampling, undersampling, or using different evaluation metrics to address class imbalance.\n",
    "\n",
    "4. **Dimensionality Reduction:** Reduce the number of features using techniques like Principal Component Analysis (PCA) or feature selection to simplify the model and potentially improve its performance.\n",
    "\n",
    "5. **Normalization:** Normalize data to achieve a standard distribution. This is particularly important for algorithms that assume normally distributed data."
   ]
  },
  {
   "cell_type": "markdown",
   "metadata": {
    "id": "rVyVnA1hLfHd"
   },
   "source": [
    "### Notes on Preprocessing processes\n",
    "\n",
    "It is advised to create functions or classes that have the same/similar type of inputs and outputs, so you can add, remove, or swap the order of the processes easily. You can implement the functions or classes by yourself\n",
    "\n",
    "or\n",
    "\n",
    "use `sklearn` library. To create a new preprocessing component in `sklearn`, implement a corresponding class that includes:\n",
    "1. Inheritance to `BaseEstimator` and `TransformerMixin`\n",
    "2. The method `fit`\n",
    "3. The method `transform`"
   ]
  },
  {
   "cell_type": "code",
   "execution_count": 52,
   "metadata": {
    "id": "WbxHt-5eKz_I"
   },
   "outputs": [],
   "source": [
    "# Example\n",
    "\n",
    "# from sklearn.base import BaseEstimator, TransformerMixin\n",
    "\n",
    "# class FeatureEncoder(BaseEstimator, TransformerMixin):\n",
    "\n",
    "#     def fit(self, X, y=None):\n",
    "\n",
    "#         # Fit the encoder here\n",
    "\n",
    "#         return self\n",
    "\n",
    "#     def transform(self, X):\n",
    "#         X_encoded = X.copy()\n",
    "\n",
    "#         # Encode the categorical variables here\n",
    "\n",
    "#         return X_encoded"
   ]
  },
  {
   "cell_type": "markdown",
   "metadata": {
    "id": "WhCgOl4xLfHb"
   },
   "source": [
    "### I. Feature Scaling\n",
    "\n",
    "**Feature scaling** is a preprocessing technique used in machine learning to standardize the range of independent variables or features of data. The primary goal of feature scaling is to ensure that all features contribute equally to the training process and that machine learning algorithms can work effectively with the data.\n",
    "\n",
    "Here are the main reasons why feature scaling is important:\n",
    "\n",
    "1. **Algorithm Sensitivity:** Many machine learning algorithms are sensitive to the scale of input features. If the scales of features are significantly different, some algorithms may perform poorly or take much longer to converge.\n",
    "\n",
    "2. **Distance-Based Algorithms:** Algorithms that rely on distances or similarities between data points, such as k-nearest neighbors (KNN) and support vector machines (SVM), can be influenced by feature scales. Features with larger scales may dominate the distance calculations.\n",
    "\n",
    "3. **Regularization:** Regularization techniques, like L1 (Lasso) and L2 (Ridge) regularization, add penalty terms based on feature coefficients. Scaling ensures that all features are treated equally in the regularization process.\n",
    "\n",
    "Common methods for feature scaling include:\n",
    "\n",
    "1. **Min-Max Scaling (Normalization):** This method scales features to a specific range, typically [0, 1]. It's done using the following formula:\n",
    "\n",
    "   $$X' = \\frac{X - X_{min}}{X_{max} - X_{min}}$$\n",
    "\n",
    "   - Here, $X$ is the original feature value, $X_{min}$ is the minimum value of the feature, and $X_{max}$ is the maximum value of the feature.  \n",
    "<br />\n",
    "<br />\n",
    "2. **Standardization (Z-score Scaling):** This method scales features to have a mean (average) of 0 and a standard deviation of 1. It's done using the following formula:\n",
    "\n",
    "   $$X' = \\frac{X - \\mu}{\\sigma}$$\n",
    "\n",
    "   - $X$ is the original feature value, $\\mu$ is the mean of the feature, and $\\sigma$ is the standard deviation of the feature.  \n",
    "<br />\n",
    "<br />\n",
    "3. **Robust Scaling:** Robust scaling is a method that scales features to the interquartile range (IQR) and is less affected by outliers. It's calculated as:\n",
    "\n",
    "   $$X' = \\frac{X - Q1}{Q3 - Q1}$$\n",
    "\n",
    "   - $X$ is the original feature value, $Q1$ is the first quartile (25th percentile), and $Q3$ is the third quartile (75th percentile) of the feature.  \n",
    "<br />\n",
    "<br />\n",
    "4. **Log Transformation:** In cases where data is highly skewed or has a heavy-tailed distribution, taking the logarithm of the feature values can help stabilize the variance and improve scaling.\n",
    "\n",
    "The choice of scaling method depends on the characteristics of your data and the requirements of your machine learning algorithm. **Min-max scaling and standardization are the most commonly used techniques and work well for many datasets.**\n",
    "\n",
    "Scaling should be applied separately to each training and test set to prevent data leakage from the test set into the training set. Additionally, **some algorithms may not require feature scaling, particularly tree-based models.**"
   ]
  },
  {
   "cell_type": "markdown",
   "metadata": {},
   "source": [
    "### Teknik Feature Scaling\n",
    "- Degan metode Min-Max Scaling. Proses feature scaling ini bertujuan untuk mengubah rentang nilai fitur menjadi skala yang seragam (biasanya antara 0 dan 1), sehingga model pembelajaran mesin tidak memberikan bobot berlebihan pada fitur dengan nilai yang lebih besar. Pada metode fit, kolom numerik dalam dataset diidentifikasi menggunakan tipe data Int64 dan float64, kemudian skala ditentukan berdasarkan nilai minimum dan maksimum dari kolom-kolom tersebut. Pada metode transform, dataset diubah dengan menskalakan nilai-nilai kolom numerik menggunakan skala yang telah ditentukan."
   ]
  },
  {
   "cell_type": "code",
   "execution_count": 53,
   "metadata": {
    "id": "COef9EbCLfHb"
   },
   "outputs": [],
   "source": [
    "class FeatureScaler(BaseEstimator, TransformerMixin):\n",
    "    def __init__(self):\n",
    "        self.scaler = MinMaxScaler()\n",
    "        self.numerical_columns = []\n",
    "\n",
    "    def fit(self, X, y=None):\n",
    "        self.numerical_columns = X.select_dtypes(include=['Int64', 'float64']).columns\n",
    "        self.scaler.fit(X[self.numerical_columns])\n",
    "        return self\n",
    "\n",
    "    def transform(self, X):\n",
    "        X_transformed = X.copy()\n",
    "        X_transformed[self.numerical_columns] = self.scaler.transform(X_transformed[self.numerical_columns])\n",
    "        return X_transformed"
   ]
  },
  {
   "cell_type": "code",
   "execution_count": null,
   "metadata": {},
   "outputs": [],
   "source": [
    "# Initialize the custom scaler\n",
    "scaler = FeatureScaler()\n",
    "\n",
    "# Fit the scaler to the data (learn the scaling parameters from the numerical features)\n",
    "scaler.fit(train_set)\n",
    "\n",
    "# Transform the data to apply scaling to the numerical columns\n",
    "scaled_data = scaler.transform(train_set)\n",
    "\n",
    "for col in scaled_data.select_dtypes(include=['number']).columns:\n",
    "    print(f\"Column: {col}\")\n",
    "    print(f\"  Min: {scaled_data[col].min()}\")\n",
    "    print(f\"  Max: {scaled_data[col].max()}\")\n",
    "    print(f\"  Dtype: {scaled_data[col].dtype}\")\n",
    "    print()"
   ]
  },
  {
   "cell_type": "markdown",
   "metadata": {
    "id": "f_Lh-4JwLfHc"
   },
   "source": [
    "### II. Feature Encoding\n",
    "\n",
    "**Feature encoding**, also known as **categorical encoding**, is the process of converting categorical data (non-numeric data) into a numerical format so that it can be used as input for machine learning algorithms. Most machine learning models require numerical data for training and prediction, so feature encoding is a critical step in data preprocessing.\n",
    "\n",
    "Categorical data can take various forms, including:\n",
    "\n",
    "1. **Nominal Data:** Categories with no intrinsic order, like colors or country names.  \n",
    "\n",
    "2. **Ordinal Data:** Categories with a meaningful order but not necessarily equidistant, like education levels (e.g., \"high school,\" \"bachelor's,\" \"master's\").\n",
    "\n",
    "There are several common methods for encoding categorical data:\n",
    "\n",
    "1. **Label Encoding:**\n",
    "\n",
    "   - Label encoding assigns a unique integer to each category in a feature.\n",
    "   - It's suitable for ordinal data where there's a clear order among categories.\n",
    "   - For example, if you have an \"education\" feature with values \"high school,\" \"bachelor's,\" and \"master's,\" you can encode them as 0, 1, and 2, respectively.\n",
    "<br />\n",
    "<br />\n",
    "2. **One-Hot Encoding:**\n",
    "\n",
    "   - One-hot encoding creates a binary (0 or 1) column for each category in a nominal feature.\n",
    "   - It's suitable for nominal data where there's no inherent order among categories.\n",
    "   - Each category becomes a new feature, and the presence (1) or absence (0) of a category is indicated for each row.\n",
    "<br />\n",
    "<br />\n",
    "3. **Target Encoding (Mean Encoding):**\n",
    "\n",
    "   - Target encoding replaces each category with the mean of the target variable for that category.\n",
    "   - It's often used for classification problems."
   ]
  },
  {
   "cell_type": "markdown",
   "metadata": {},
   "source": [
    "### Teknik Feature Encoding\n",
    "- Degan metode One-Hot Encoding. Proses ini bertujuan mengubah data kategori menjadi representasi numerik agar dapat digunakan oleh algoritma pembelajaran mesin, yang umumnya bekerja lebih baik dengan data numerik."
   ]
  },
  {
   "cell_type": "code",
   "execution_count": 55,
   "metadata": {
    "id": "psElSUugLfHc"
   },
   "outputs": [],
   "source": [
    "class FeatureEncoder(BaseEstimator, TransformerMixin):\n",
    "    def __init__(self):\n",
    "        self.encoder = OneHotEncoder(sparse_output=False) #mengeluarkan dalam array dan bukan sparse matrix\n",
    "        self.categorical_columns = []\n",
    "\n",
    "    def fit(self, X, y=None):\n",
    "        self.categorical_columns = X.select_dtypes(include=['category']).columns \n",
    "        self.encoder.fit(X[self.categorical_columns])\n",
    "        return self\n",
    "\n",
    "    def transform(self, X):\n",
    "        encoded_data = pd.DataFrame( #mengeluarkan pandas dataframe dan bukan numpy array\n",
    "            self.encoder.transform(X[self.categorical_columns]),\n",
    "            columns=self.encoder.get_feature_names_out(self.categorical_columns), #menggabungkan nama column lama dengan isi valuenya\n",
    "            index=X.index\n",
    "        )\n",
    "        return pd.concat([X.drop(columns=self.categorical_columns), encoded_data], axis=1) #drop column original lalu membuat column baru dengan nama gabungan"
   ]
  },
  {
   "cell_type": "code",
   "execution_count": null,
   "metadata": {},
   "outputs": [],
   "source": [
    "# Initialize the CategoricalFeatureEncoder\n",
    "encoder = FeatureEncoder()\n",
    "\n",
    "# Fit the encoder to the data\n",
    "encoder.fit(train_set)\n",
    "\n",
    "# Transform the data\n",
    "encoded_data = encoder.transform(train_set)\n",
    "\n",
    "# Show the transformed data\n",
    "# Get the new encoded column names\n",
    "encoded_columns = encoder.encoder.get_feature_names_out()\n",
    "\n",
    "# Print the distribution for each value for each encoded column in encoded_data\n",
    "for col in encoded_columns:\n",
    "    print(f\"Distribution for {col}:\")\n",
    "    print(encoded_data[col].value_counts())\n",
    "    print()"
   ]
  },
  {
   "cell_type": "markdown",
   "metadata": {
    "id": "jKQO9wtB8Pc0"
   },
   "source": [
    "### III. Handling Imbalanced Dataset\n",
    "\n",
    "**Handling imbalanced datasets** is important because imbalanced data can lead to several issues that negatively impact the performance and reliability of machine learning models. Here are some key reasons:\n",
    "\n",
    "1. **Biased Model Performance**:\n",
    "\n",
    " - Models trained on imbalanced data tend to be biased towards the majority class, leading to poor performance on the minority class. This can result in misleading accuracy metrics.\n",
    "\n",
    "2. **Misleading Accuracy**:\n",
    "\n",
    " - High overall accuracy can be misleading in imbalanced datasets. For example, if 95% of the data belongs to one class, a model that always predicts the majority class will have 95% accuracy but will fail to identify the minority class.\n",
    "\n",
    "3. **Poor Generalization**:\n",
    "\n",
    " - Models trained on imbalanced data may not generalize well to new, unseen data, especially if the minority class is underrepresented.\n",
    "\n",
    "\n",
    "Some methods to handle imbalanced datasets:\n",
    "1. **Resampling Methods**:\n",
    "\n",
    " - Oversampling: Increase the number of instances in the minority class by duplicating or generating synthetic samples (e.g., SMOTE).\n",
    " - Undersampling: Reduce the number of instances in the majority class to balance the dataset.\n",
    "\n",
    "2. **Evaluation Metrics**:\n",
    "\n",
    " - Use appropriate evaluation metrics such as precision, recall, F1-score, ROC-AUC, and confusion matrix instead of accuracy to better assess model performance on imbalanced data.\n",
    "\n",
    "3. **Algorithmic Approaches**:\n",
    "\n",
    " - Use algorithms that are designed to handle imbalanced data, such as decision trees, random forests, or ensemble methods.\n",
    " - Adjust class weights in algorithms to give more importance to the minority class."
   ]
  },
  {
   "cell_type": "markdown",
   "metadata": {},
   "source": [
    "### Teknik Handliing Imbalanced Set\n",
    "- Degan metode resampling (Oversampling), dengan SMOTE. //penjelasan//"
   ]
  },
  {
   "cell_type": "code",
   "execution_count": 57,
   "metadata": {
    "id": "u2BQd2XJ9W1i"
   },
   "outputs": [],
   "source": [
    "#undersampling nearmiss\n",
    "class NearMissUnderSampler(BaseEstimator, TransformerMixin):\n",
    "    def __init__(self, version=1, n_neighbors=3, sampling_strategy='auto'):\n",
    "        \"\"\"\n",
    "        Initialize the NearMiss undersampling with the specified parameters.\n",
    "\n",
    "        :param version: NearMiss version (1, 2, or 3). Determines how the neighbors are selected.\n",
    "        :param n_neighbors: Number of neighbors to use for selecting samples (only for version 2 or 3).\n",
    "        :param sampling_strategy: The desired amount of undersampling. Can be:\n",
    "                                  - 'auto': Balance the class distribution.\n",
    "                                  - float (e.g., 0.5): Ratio of the majority class to the minority class.\n",
    "                                  - int: Number of samples to undersample the majority class to.\n",
    "                                  - 'majority': Undersample to match the size of the majority class.\n",
    "        \"\"\"\n",
    "        self.sampler = NearMiss(version=version, n_neighbors=n_neighbors, sampling_strategy=sampling_strategy)\n",
    "\n",
    "    def fit(self, X, y):\n",
    "        \"\"\"Fit the NearMiss undersampler.\"\"\"\n",
    "        self.sampler.fit_resample(X, y)\n",
    "        return self\n",
    "\n",
    "    def transform(self, X, y=None):\n",
    "        \"\"\"Transform the data by undersampling the majority class.\"\"\"\n",
    "        X_resampled, y_resampled = self.sampler.fit_resample(X, y)\n",
    "        return X_resampled, y_resampled"
   ]
  },
  {
   "cell_type": "code",
   "execution_count": 58,
   "metadata": {},
   "outputs": [],
   "source": [
    "#random oversampler\n",
    "class CustomRandomOversampler(BaseEstimator, TransformerMixin):\n",
    "    def __init__(self, random_state=None):\n",
    "        # Initialize with any parameters you want to set\n",
    "        self.oversampler = RandomOverSampler(random_state=random_state)\n",
    "    \n",
    "    def fit(self, X, y=None):\n",
    "        # Fit the oversampler (learn the resampling strategy)\n",
    "        self.oversampler.fit(X, y)\n",
    "        return self\n",
    "    \n",
    "    def transform(self, X, y=None):\n",
    "        # Apply the oversampling to the data\n",
    "        return self.oversampler.fit_resample(X, y)   # ('undersampling', NearMiss(version=3))\n",
    "    \n",
    "    def fit_resample(self, X, y=None):\n",
    "        # Combine fit and resample in one method\n",
    "        return self.oversampler.fit_resample(X, y)"
   ]
  },
  {
   "cell_type": "markdown",
   "metadata": {
    "id": "-ctVzt5DLfHd"
   },
   "source": [
    "# 3. Compile Preprocessing Pipeline\n",
    "\n",
    "All of the preprocessing classes or functions defined earlier will be compiled in this step."
   ]
  },
  {
   "cell_type": "markdown",
   "metadata": {
    "id": "S_ZlncSVjJG6"
   },
   "source": [
    "If you use sklearn to create preprocessing classes, you can list your preprocessing classes in the Pipeline object sequentially, and then fit and transform your data."
   ]
  },
  {
   "cell_type": "code",
   "execution_count": 59,
   "metadata": {
    "id": "jHraoW_7LfHd"
   },
   "outputs": [],
   "source": [
    "# from sklearn.pipeline import Pipeline\n",
    "\n",
    "# # Note: You can add or delete preprocessing components from this pipeline\n",
    "\n",
    "# pipe = Pipeline([(\"imputer\", FeatureImputer()),\n",
    "#                  (\"featurecreator\", FeatureCreator()),\n",
    "#                  (\"scaler\", FeatureScaler()),\n",
    "#                  (\"encoder\", FeatureEncoder())])\n",
    "\n",
    "# train_set = pipe.fit_transform(train_set)\n",
    "# val_set = pipe.transform(val_set)"
   ]
  },
  {
   "cell_type": "code",
   "execution_count": 60,
   "metadata": {
    "id": "9s56aFFxLfHd"
   },
   "outputs": [],
   "source": [
    "# # Your code should work up until this point\n",
    "# train_set = pipe.fit_transform(train_set)\n",
    "# val_set = pipe.transform(val_set)\n"
   ]
  },
  {
   "cell_type": "markdown",
   "metadata": {
    "id": "SXoCqMztjhr-"
   },
   "source": [
    "or create your own here"
   ]
  },
  {
   "cell_type": "code",
   "execution_count": null,
   "metadata": {
    "id": "7OoZ3oXEj2CW"
   },
   "outputs": [],
   "source": [
    "# Define numerical and categorical features\n",
    "numerical_features = train_set.select_dtypes(include=['float64', 'int64']).columns\n",
    "categorical_features = train_set.select_dtypes(include=['category', 'object']).columns\n",
    "\n",
    "# Preprocessor for scaling and encoding\n",
    "preprocessor = ColumnTransformer(\n",
    "    transformers=[\n",
    "        ('scaler', FeatureScaler(), numerical_features),\n",
    "        ('encoder', FeatureEncoder(), categorical_features)\n",
    "    ]\n",
    ")\n",
    "\n",
    "# Full pipeline including NearMiss undersampling\n",
    "pipe = ImbPipeline([\n",
    "    ('preprocessor', preprocessor),\n",
    "    # ('undersampling', NearMiss(version=3,n_neighbors=3 , sampling_strategy=0.1)),  # Apply NearMiss-3\n",
    "    ('oversampler', CustomRandomOversampler(random_state=42))  # Using custom oversampler class\n",
    "])\n",
    "\n",
    "# Separate features and target\n",
    "X_train = train_set.drop(columns=['label'])\n",
    "y_train = train_set['label']\n",
    "X_val = val_set.drop(columns=['label'])\n",
    "y_val = val_set['label']\n",
    "\n",
    "# Fit the pipeline on training data and transform\n",
    "X_resampled, y_resampled = pipe.fit_resample(X_train, y_train)\n",
    "\n",
    "# Transform validation data without applying undersampling\n",
    "X_val_transformed = pipe.named_steps['preprocessor'].transform(X_val)\n",
    "\n",
    "# Check the results\n",
    "print(\"Original training class distribution:\")\n",
    "print(y_train.value_counts())\n",
    "print(\"\\nResampled training class distribution:\")\n",
    "print(pd.Series(y_resampled).value_counts())"
   ]
  },
  {
   "cell_type": "code",
   "execution_count": null,
   "metadata": {},
   "outputs": [],
   "source": []
  },
  {
   "cell_type": "markdown",
   "metadata": {
    "id": "9A3adbZXLfHe"
   },
   "source": [
    "# 4. Modeling and Validation\n",
    "\n",
    "Modelling is the process of building your own machine learning models to solve specific problems, or in this assignment context, predicting the target feature `label`. Validation is the process of evaluating your trained model using the validation set or cross-validation method and providing some metrics that can help you decide what to do in the next iteration of development."
   ]
  },
  {
   "cell_type": "markdown",
   "metadata": {
    "id": "ZnhMNbBILfHf"
   },
   "source": [
    "## A. KNN"
   ]
  },
  {
   "cell_type": "code",
   "execution_count": null,
   "metadata": {
    "id": "KV6ICmFmlqjk"
   },
   "outputs": [],
   "source": [
    "# Type your code here\n",
    "from sklearn.metrics import accuracy_score, confusion_matrix, classification_report, precision_score\n",
    "from sklearn.neighbors import KNeighborsClassifier\n",
    "\n",
    "knn = KNeighborsClassifier(n_neighbors=3)\n",
    "knn.fit(X_resampled, y_resampled)\n",
    "y_pred = knn.predict(X_val_transformed)\n",
    "print(y_pred)\n",
    "accuracy = accuracy_score(y_val, y_pred)\n",
    "print(f\"Accuracy: {accuracy:.4f}\")\n",
    "\n",
    "precision = precision_score(y_val, y_pred, average='weighted', zero_division=0)\n",
    "print(f\"Precision Score: {precision:.4f}\")\n",
    "\n",
    "conf_matrix = confusion_matrix(y_val, y_pred)\n",
    "print(f\"Confusion Matrix:\\n{conf_matrix}\")\n",
    "\n",
    "class_report = classification_report(y_val, y_pred, zero_division=0)\n",
    "print(f\"Classification Report:\\n{class_report}\")"
   ]
  },
  {
   "cell_type": "code",
   "execution_count": null,
   "metadata": {},
   "outputs": [],
   "source": [
    "class KNN:\n",
    "    def __init__(self, k=3, metric='euclidean', p=3):\n",
    "        self.k = k\n",
    "        self.metric = metric\n",
    "        self.p = p\n",
    "\n",
    "    def fit(self, X_train, y_train):\n",
    "        self.X_train = np.array(X_train) #mengubah menjadi numpy array\n",
    "        self.y_train = np.array(y_train) \n",
    "\n",
    "    def _distance(self, point1, point2):\n",
    "        if self.metric == 'euclidean':\n",
    "            return np.sqrt(np.sum((point1 - point2) ** 2))\n",
    "        elif self.metric == 'manhattan':\n",
    "            return np.sum(np.abs(point1 - point2))\n",
    "        elif self.metric == 'minkowski':\n",
    "            return np.sum(np.abs(point1 - point2) ** self.p) ** (1 / self.p)\n",
    "\n",
    "    def predict(self, X_test):\n",
    "        predictions = []\n",
    "        for test_point in X_test:\n",
    "            distances = []\n",
    "            for i, train_point in enumerate(self.X_train):\n",
    "                distance = self._distance(test_point, train_point) #menghitung distance dengan metric yang sudah ditentukan\n",
    "                distances.append((distance, i)) #menjadikan hasil ke distance beserta indexnya agar bisa diambil labelnya\n",
    "\n",
    "            distances.sort(key=lambda x: x[0]) #sort dari distance terkecil\n",
    "\n",
    "            k_nearest_neighbors = [self.y_train[i] for _, i in distances[:self.k]] #memilih 7 data dengan distance terdekat\n",
    "            \n",
    "            vote = Counter(k_nearest_neighbors).most_common(1) #menghitung jumlah label \n",
    "            predictions.append(vote[0][0]) #memilih label dengan jumlah terbanyak\n",
    "        \n",
    "        return np.array(predictions) \n",
    "\n",
    "data_fraction = 0.05 #ganti total data yang diproses\n",
    "\n",
    "train_subset_size = int(len(X_resampled) * data_fraction)\n",
    "val_subset_size = int(len(X_val_transformed) * data_fraction)\n",
    "\n",
    "train_subset = X_resampled[:train_subset_size]\n",
    "y_train_subset = y_resampled[:train_subset_size]\n",
    "val_subset = X_val_transformed[:val_subset_size]\n",
    "y_val_subset = y_val[:val_subset_size]\n",
    "\n",
    "\n",
    "knn = KNN(k=7, metric='euclidean', p=None) #bisa ganti k, metric, dan p disini\n",
    "\n",
    "knn.fit(train_subset, y_train_subset)\n",
    "predictions = knn.predict(val_subset)\n",
    "\n",
    "\n",
    "accuracy = accuracy_score(y_val_subset, predictions)\n",
    "print(f\"Accuracy: {accuracy:.4f}\")\n",
    "\n",
    "precision = precision_score(y_val_subset, predictions, average='weighted', zero_division=0)\n",
    "print(f\"Precision Score: {precision:.4f}\")\n",
    "\n",
    "conf_matrix = confusion_matrix(y_val_subset, predictions)\n",
    "print(f\"Confusion Matrix:\\n{conf_matrix}\")\n",
    "\n",
    "class_report = classification_report(y_val_subset, predictions, zero_division=0)\n",
    "print(f\"Classification Report:\\n{class_report}\")"
   ]
  },
  {
   "cell_type": "markdown",
   "metadata": {
    "id": "nW0bMzkDLfHf"
   },
   "source": [
    "## B. Naive Bayes"
   ]
  },
  {
   "cell_type": "code",
   "execution_count": null,
   "metadata": {
    "id": "C_XwsN_-LfHg"
   },
   "outputs": [],
   "source": [
    "# Type your code here\n",
    "from sklearn.naive_bayes import GaussianNB\n",
    "\n",
    "gnb = GaussianNB()\n",
    "\n",
    "gnb.fit(X_resampled, y_resampled)\n",
    "\n",
    "y_predb = gnb.predict(X_val_transformed)\n",
    "\n",
    "conf_matrix = confusion_matrix(y_val, y_predb)\n",
    "print(f\"Confusion Matrix:\\n{conf_matrix[0]}\")\n",
    "print(conf_matrix[1])\n",
    "\n",
    "accuracy = accuracy_score(y_val, y_predb)\n",
    "print(f\"\\nAccuracy: {accuracy:.4f}\")\n",
    "\n",
    "class_report = classification_report(y_val, y_predb, zero_division=0)\n",
    "print(f\"Classification Report:\\n{class_report}\")"
   ]
  },
  {
   "cell_type": "code",
   "execution_count": null,
   "metadata": {},
   "outputs": [],
   "source": [
    "class NaiveBayes :\n",
    "    def __init__(self) :\n",
    "        #variabel menyimpan probabilitas class, mean, dan variance(std^2)\n",
    "        self.label_probs = {}\n",
    "        self.mean = {}\n",
    "        self.var = {}\n",
    "\n",
    "    def fit(self,data,target) :\n",
    "        # menggunakan label 0 dan 1\n",
    "        # label 0\n",
    "        data_0 = data[target == 0]\n",
    "        self.label_probs[0] = data_0.shape[0]/data.shape[0]\n",
    "        self.mean[0] = np.mean(data_0, axis=0)\n",
    "        self.var[0]  = np.var(data_0, axis=0)\n",
    "        #label 1\n",
    "        data_1 = data[target == 1]\n",
    "        self.label_probs[1] = data_1.shape[0]/data.shape[0]\n",
    "        self.mean[1] = np.mean(data_1, axis=0)\n",
    "        self.var[1]  = np.var(data_1, axis=0)\n",
    "\n",
    "    def predict(self,data) :\n",
    "        predictions = [self._prediction(x) for x in data]\n",
    "        return np.array(predictions)\n",
    "    \n",
    "    def _prediction(self,x) :\n",
    "        # menggunakan log dari rumus gaussian untuk menghindari nilai yang terlalu kecil dan kemudahan perhitungan\n",
    "        #label 0\n",
    "        likelihood_0 = np.sum((-0.5 * np.log((2*np.pi*self.var[0])+1e-9) - ((x - self.mean[0]) ** 2 / ((2*self.var[0])+1e-9))))\n",
    "        prior_0 = np.log(self.label_probs[0])\n",
    "        pred_0 = likelihood_0 + prior_0\n",
    "        #label 1\n",
    "        likelihood_1 = np.sum((-0.5 * np.log((2*np.pi*self.var[1])+1e-9) - ((x - self.mean[1]) ** 2 / ((2*self.var[1])+1e-9))))\n",
    "        prior_1 = np.log(self.label_probs[1])\n",
    "        pred_1 = likelihood_1 + prior_1\n",
    "\n",
    "        if pred_0 > pred_1 :\n",
    "            return 0\n",
    "        else :\n",
    "            return 1\n",
    "        \n",
    "gnb = NaiveBayes()\n",
    "\n",
    "gnb.fit(X_resampled, y_resampled)\n",
    "\n",
    "y_preds = gnb.predict(X_val_transformed)\n",
    "\n",
    "conf_matrix = confusion_matrix(y_val, y_preds)\n",
    "print(f\"Confusion Matrix:\\n{conf_matrix[0]}\")\n",
    "print(conf_matrix[1])\n",
    "\n",
    "accuracy = accuracy_score(y_val, y_preds)\n",
    "print(f\"\\nAccuracy: {accuracy:.4f}\")\n",
    "\n",
    "class_report = classification_report(y_val, y_preds, zero_division=0)\n",
    "print(f\"Classification Report:\\n{class_report}\")"
   ]
  },
  {
   "cell_type": "markdown",
   "metadata": {
    "id": "LoH2u6fOLfHh"
   },
   "source": [
    "## C. Improvements (Optional)\n",
    "\n",
    "- **Visualize the model evaluation result**\n",
    "\n",
    "This will help you to understand the details more clearly about your model's performance. From the visualization, you can see clearly if your model is leaning towards a class than the others. (Hint: confusion matrix, ROC-AUC curve, etc.)\n",
    "\n",
    "- **Explore the hyperparameters of your models**\n",
    "\n",
    "Each models have their own hyperparameters. And each of the hyperparameter have different effects on the model behaviour. You can optimize the model performance by finding the good set of hyperparameters through a process called **hyperparameter tuning**. (Hint: Grid search, random search, bayesian optimization)\n",
    "\n",
    "- **Cross-validation**\n",
    "\n",
    "Cross-validation is a critical technique in machine learning and data science for evaluating and validating the performance of predictive models. It provides a more **robust** and **reliable** evaluation method compared to a hold-out (single train-test set) validation. Though, it requires more time and computing power because of how cross-validation works. (Hint: k-fold cross-validation, stratified k-fold cross-validation, etc.)"
   ]
  },
  {
   "cell_type": "code",
   "execution_count": 183,
   "metadata": {
    "id": "pg-A54yELfHh"
   },
   "outputs": [],
   "source": [
    "# Type your code here"
   ]
  },
  {
   "cell_type": "markdown",
   "metadata": {
    "id": "Li4l53DjLfHh"
   },
   "source": [
    "## D. Submission\n",
    "To predict the test set target feature and submit the results to the kaggle competition platform, do the following:\n",
    "1. Create a new pipeline instance identical to the first in Data Preprocessing\n",
    "2. With the pipeline, apply `fit_transform` to the original training set before splitting, then only apply `transform` to the test set.\n",
    "3. Retrain the model on the preprocessed training set\n",
    "4. Predict the test set\n",
    "5. Make sure the submission contains the `id` and `label` column.\n",
    "\n",
    "Note: Adjust step 1 and 2 to your implementation of the preprocessing step if you don't use pipeline API from `sklearn`."
   ]
  },
  {
   "cell_type": "code",
   "execution_count": 184,
   "metadata": {
    "id": "LeqnfWc-LfHi"
   },
   "outputs": [],
   "source": [
    "# Type your code here"
   ]
  },
  {
   "cell_type": "markdown",
   "metadata": {
    "id": "R-jXvKOpLfHi"
   },
   "source": [
    "# 6. Error Analysis\n",
    "\n",
    "Based on all the process you have done until the modeling and evaluation step, write an analysis to support each steps you have taken to solve this problem. Write the analysis using the markdown block. Some questions that may help you in writing the analysis:\n",
    "\n",
    "- Does my model perform better in predicting one class than the other? If so, why is that?\n",
    "- To each models I have tried, which performs the best and what could be the reason?\n",
    "- Is it better for me to impute or drop the missing data? Why?\n",
    "- Does feature scaling help improve my model performance?\n",
    "- etc..."
   ]
  },
  {
   "cell_type": "markdown",
   "metadata": {
    "id": "tWL3nEAELfHj"
   },
   "source": [
    "`Provide your analysis here`"
   ]
  }
 ],
 "metadata": {
  "colab": {
   "provenance": []
  },
  "kernelspec": {
   "display_name": "usr",
   "language": "python",
   "name": "python3"
  },
  "language_info": {
   "codemirror_mode": {
    "name": "ipython",
    "version": 3
   },
   "file_extension": ".py",
   "mimetype": "text/x-python",
   "name": "python",
   "nbconvert_exporter": "python",
   "pygments_lexer": "ipython3",
   "version": "3.13.0"
  }
 },
 "nbformat": 4,
 "nbformat_minor": 0
}
